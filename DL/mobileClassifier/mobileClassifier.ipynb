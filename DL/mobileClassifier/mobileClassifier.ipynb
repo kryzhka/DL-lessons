{
 "cells": [
  {
   "cell_type": "code",
   "execution_count": 1371,
   "metadata": {},
   "outputs": [],
   "source": [
    "import pandas as pd\n",
    "import numpy as np\n",
    "import torch\n",
    "import tqdm\n"
   ]
  },
  {
   "cell_type": "code",
   "execution_count": 1372,
   "metadata": {},
   "outputs": [],
   "source": [
    "def normalizeCollumns(in_file):\n",
    "    for i in range(in_file.shape[1]):\n",
    "        #print(in_file[in_file.columns[i]])\n",
    "        column=in_file[in_file.columns[i]]\n",
    "        in_file[in_file.columns[i]]=(column-np.min(column))/(np.max(column)-np.min(column))\n",
    "        #print(in_file[:,1])\n",
    "    return in_file"
   ]
  },
  {
   "cell_type": "code",
   "execution_count": 1373,
   "metadata": {},
   "outputs": [],
   "source": [
    "def get_dataloader(root):\n",
    "    train_file = pd.read_csv(root)\n",
    "    #print(train_file)\n",
    "    in_label =train_file['price_range']\n",
    "    train_file=train_file.drop(['price_range'],axis=1)\n",
    "\n",
    "    train_label=torch.zeros([len(in_label),4],dtype=torch.float64)\n",
    "    for i in range(len(in_label)):\n",
    "        train_label[i][in_label[i]]=1\n",
    "        \n",
    "    normalizeCollumns(train_file)\n",
    "\n",
    "    return torch.utils.data.DataLoader(torch.utils.data.TensorDataset(torch.tensor(np.array(train_file)),train_label),batch_size=64,),train_file.shape[1]"
   ]
  },
  {
   "cell_type": "code",
   "execution_count": 1374,
   "metadata": {},
   "outputs": [
    {
     "name": "stdout",
     "output_type": "stream",
     "text": [
      "For training used a : cuda\n"
     ]
    }
   ],
   "source": [
    "device=\"cuda\" if torch.cuda.is_available() else \"cpu\"\n",
    "print(\"For training used a :\", device)"
   ]
  },
  {
   "cell_type": "code",
   "execution_count": 1375,
   "metadata": {},
   "outputs": [],
   "source": [
    "trainDataloader, countOfParametrs = get_dataloader(\"/dataset/train.csv\")\n"
   ]
  },
  {
   "cell_type": "code",
   "execution_count": 1376,
   "metadata": {},
   "outputs": [],
   "source": [
    "class MobileClassificator(torch.nn.Module):\n",
    "    def __init__(self,countOfParametrs=20):\n",
    "        super().__init__()\n",
    "        act_func=torch.nn.ReLU()\n",
    "        linear_1 = torch.nn.Linear(countOfParametrs,countOfParametrs)\n",
    "        linear_2= torch.nn.Linear(countOfParametrs,4)\n",
    "\n",
    "        self.model = torch.nn.Sequential(\n",
    "            linear_1,act_func,linear_2\n",
    "        )\n",
    "\n",
    "    def forward(self,x):\n",
    "        return self.model(x)\n",
    "    \n",
    "model=MobileClassificator().to(device)\n"
   ]
  },
  {
   "cell_type": "code",
   "execution_count": 1377,
   "metadata": {},
   "outputs": [],
   "source": [
    "loss_func=torch.nn.CrossEntropyLoss()\n",
    "optimiser=torch.optim.Adam(model.parameters(),lr=1e-2)"
   ]
  },
  {
   "cell_type": "code",
   "execution_count": 1378,
   "metadata": {},
   "outputs": [],
   "source": [
    "def accruracy(pred,label):\n",
    "    answer = pred.detach().numpy().argmax(1) == label.numpy().argmax(1) \n",
    "    return answer.mean()"
   ]
  },
  {
   "cell_type": "code",
   "execution_count": 1379,
   "metadata": {},
   "outputs": [],
   "source": [
    "def train(dataloader,model,loss_fn,optimiser):\n",
    "    loss_val=0\n",
    "    accruracy_val=0\n",
    "    for sample in dataloader:\n",
    "        X,Y=sample\n",
    "        \n",
    "        \n",
    "        X=X.to(device)\n",
    "        Y=Y.to(device)\n",
    "        \n",
    "        X=X.to(torch.float32)\n",
    "        #Y=Y.unsqueeze(1)\n",
    "        \n",
    "        pred=model(X)\n",
    "        #print(pred.dtype,Y.dtype)\n",
    "        # for i in range(5):\n",
    "        #     print(pred[i],\"====\",Y[i])\n",
    "\n",
    "        loss=loss_fn(pred,Y)\n",
    "        \n",
    "        optimiser.zero_grad()\n",
    "        loss.backward()\n",
    "        optimiser.step()\n",
    "        loss_val+=loss.item()\n",
    "        accruracy_val+= accruracy(pred.cpu(),Y.cpu())\n",
    "        # print(\"accc=\",accruracy(pred.cpu(),Y.cpu()))\n",
    "        # print(\"loss=\",loss.item())\n",
    "        \n",
    "    print(\"avg loss=\",loss_val/len(dataloader))\n",
    "    print(\"avg accuracy=\",accruracy_val/len(dataloader))\n",
    "    \n"
   ]
  },
  {
   "cell_type": "code",
   "execution_count": 1380,
   "metadata": {},
   "outputs": [],
   "source": [
    "def test(dataloader,model):\n",
    "    accruracy_val=0\n",
    "    for sample in dataloader:\n",
    "        X,Y=sample\n",
    "        \n",
    "        X=X.to(device)\n",
    "        Y=Y.to(device)\n",
    "        \n",
    "        X=X.to(torch.float32)\n",
    "        pred=model(X)\n",
    "        accruracy_val+= accruracy(pred.cpu(),Y.cpu())\n",
    "    print(\"accuracy=\",accruracy_val/len(dataloader))\n"
   ]
  },
  {
   "cell_type": "code",
   "execution_count": 1381,
   "metadata": {},
   "outputs": [
    {
     "name": "stdout",
     "output_type": "stream",
     "text": [
      "Epoch# 1\n",
      "avg loss= 1.3218923055683263\n",
      "avg accuracy= 0.36279296875\n",
      "Epoch# 2\n",
      "avg loss= 1.0318045344756683\n",
      "avg accuracy= 0.62451171875\n",
      "Epoch# 3\n",
      "avg loss= 0.7796790482461802\n",
      "avg accuracy= 0.728515625\n",
      "Epoch# 4\n",
      "avg loss= 0.6402661095853546\n",
      "avg accuracy= 0.77685546875\n",
      "Epoch# 5\n",
      "avg loss= 0.5512309908513089\n",
      "avg accuracy= 0.81591796875\n",
      "Epoch# 6\n",
      "avg loss= 0.48592321062278643\n",
      "avg accuracy= 0.841796875\n",
      "Epoch# 7\n",
      "avg loss= 0.4360719573096503\n",
      "avg accuracy= 0.86083984375\n",
      "Epoch# 8\n",
      "avg loss= 0.39441797183474137\n",
      "avg accuracy= 0.8798828125\n",
      "Epoch# 9\n",
      "avg loss= 0.36128600097401886\n",
      "avg accuracy= 0.8916015625\n",
      "Epoch# 10\n",
      "avg loss= 0.3332627438313409\n",
      "avg accuracy= 0.90185546875\n",
      "Epoch# 11\n",
      "avg loss= 0.3095711505764882\n",
      "avg accuracy= 0.91259765625\n",
      "Epoch# 12\n",
      "avg loss= 0.28856724412335666\n",
      "avg accuracy= 0.91845703125\n",
      "Epoch# 13\n",
      "avg loss= 0.2707549924568866\n",
      "avg accuracy= 0.9248046875\n",
      "Epoch# 14\n",
      "avg loss= 0.25513575510759523\n",
      "avg accuracy= 0.927734375\n",
      "Epoch# 15\n",
      "avg loss= 0.24158304066675385\n",
      "avg accuracy= 0.92919921875\n",
      "Epoch# 16\n",
      "avg loss= 0.2297685227473032\n",
      "avg accuracy= 0.9287109375\n",
      "Epoch# 17\n",
      "avg loss= 0.21942375168910644\n",
      "avg accuracy= 0.93603515625\n",
      "Epoch# 18\n",
      "avg loss= 0.21088168998315204\n",
      "avg accuracy= 0.9365234375\n",
      "Epoch# 19\n",
      "avg loss= 0.20243645410130107\n",
      "avg accuracy= 0.93798828125\n",
      "Epoch# 20\n",
      "avg loss= 0.1947819931230539\n",
      "avg accuracy= 0.94091796875\n"
     ]
    }
   ],
   "source": [
    "countOfEpoch=20\n",
    "for epoch in range(countOfEpoch):\n",
    "    print(\"Epoch#\",epoch+1)\n",
    "    train(trainDataloader,model,loss_func,optimiser)\n",
    "    \n"
   ]
  },
  {
   "cell_type": "code",
   "execution_count": 1382,
   "metadata": {},
   "outputs": [],
   "source": [
    "#testDataloader,=get_dataloader(\"/dataset/test.csv\")\n",
    "#test(testDataloader,model)"
   ]
  }
 ],
 "metadata": {
  "kernelspec": {
   "display_name": "Python 3 (ipykernel)",
   "language": "python",
   "name": "python3"
  },
  "language_info": {
   "codemirror_mode": {
    "name": "ipython",
    "version": 3
   },
   "file_extension": ".py",
   "mimetype": "text/x-python",
   "name": "python",
   "nbconvert_exporter": "python",
   "pygments_lexer": "ipython3",
   "version": "3.9.13"
  },
  "orig_nbformat": 4
 },
 "nbformat": 4,
 "nbformat_minor": 2
}
